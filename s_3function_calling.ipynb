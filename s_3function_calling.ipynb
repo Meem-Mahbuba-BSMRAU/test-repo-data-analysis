{
  "nbformat": 4,
  "nbformat_minor": 0,
  "metadata": {
    "colab": {
      "provenance": []
    },
    "kernelspec": {
      "name": "python3",
      "display_name": "Python 3"
    },
    "language_info": {
      "name": "python"
    }
  },
  "cells": [
    {
      "cell_type": "code",
      "execution_count": null,
      "metadata": {
        "colab": {
          "base_uri": "https://localhost:8080/"
        },
        "id": "9V6qyC3xZYZ1",
        "outputId": "1da010fe-ff72-46b8-8482-8e59accc9902"
      },
      "outputs": [
        {
          "output_type": "stream",
          "name": "stdout",
          "text": [
            "20\n"
          ]
        }
      ],
      "source": [
        "print(10*2)"
      ]
    },
    {
      "cell_type": "code",
      "source": [
        "print(10/2)"
      ],
      "metadata": {
        "colab": {
          "base_uri": "https://localhost:8080/"
        },
        "id": "54B8gJKnaLmN",
        "outputId": "5a40c662-b5f2-4cd8-c892-6dbee46dd419"
      },
      "execution_count": null,
      "outputs": [
        {
          "output_type": "stream",
          "name": "stdout",
          "text": [
            "5.0\n"
          ]
        }
      ]
    },
    {
      "cell_type": "code",
      "source": [
        "print(1+2)"
      ],
      "metadata": {
        "colab": {
          "base_uri": "https://localhost:8080/"
        },
        "id": "hoNrTQGCag9k",
        "outputId": "a36de1a5-293f-4fa9-e711-1f908e7b75a6"
      },
      "execution_count": null,
      "outputs": [
        {
          "output_type": "stream",
          "name": "stdout",
          "text": [
            "3\n"
          ]
        }
      ]
    },
    {
      "cell_type": "code",
      "source": [
        "print(((1+3)*(9-2)/2)**2)"
      ],
      "metadata": {
        "colab": {
          "base_uri": "https://localhost:8080/"
        },
        "id": "JjlRXktGa8NJ",
        "outputId": "0dd1a4ab-d03b-4bef-fc51-fb39feaf0577"
      },
      "execution_count": null,
      "outputs": [
        {
          "output_type": "stream",
          "name": "stdout",
          "text": [
            "196.0\n"
          ]
        }
      ]
    },
    {
      "cell_type": "code",
      "source": [
        "num1=10\n",
        "print(num1)\n",
        "num2=(5)\n",
        "num1=num1+50\n",
        "print(num1)"
      ],
      "metadata": {
        "id": "OVlSnR32cqVS",
        "colab": {
          "base_uri": "https://localhost:8080/"
        },
        "outputId": "39e86961-75cb-4f3b-d84b-d3150c470578"
      },
      "execution_count": null,
      "outputs": [
        {
          "output_type": "stream",
          "name": "stdout",
          "text": [
            "10\n",
            "60\n"
          ]
        }
      ]
    },
    {
      "cell_type": "code",
      "source": [
        "num_years=4\n",
        "hours_per_day=24\n",
        "days_per_year=365\n",
        "mins_per_hour=60\n",
        "secs_per_min=60\n",
        "#Calculate number of seconds in four years\n",
        "total_secs=secs_per_min*mins_per_hour*hours_per_day*days_per_year*num_years\n",
        "print(total_secs)\n"
      ],
      "metadata": {
        "id": "p0II7scSfDk4",
        "colab": {
          "base_uri": "https://localhost:8080/"
        },
        "outputId": "2d95a3c0-7d93-4174-dbcf-3ab4d80db7da"
      },
      "execution_count": null,
      "outputs": [
        {
          "output_type": "stream",
          "name": "stdout",
          "text": [
            "126144000\n"
          ]
        }
      ]
    },
    {
      "cell_type": "code",
      "source": [
        "#update to include leap years\n",
        "days_per_year=365.25\n",
        "#Calculate number of seconds in four years\n",
        "total_secs=secs_per_min*mins_per_hour*hours_per_day*days_per_year*num_years\n",
        "print(total_secs)\n",
        "\n"
      ],
      "metadata": {
        "colab": {
          "base_uri": "https://localhost:8080/"
        },
        "id": "OcZLAMfVhp1O",
        "outputId": "6810bfb6-92ca-4047-ca45-015fdc4cdf43"
      },
      "execution_count": null,
      "outputs": [
        {
          "output_type": "stream",
          "name": "stdout",
          "text": [
            "126230400.0\n"
          ]
        }
      ]
    },
    {
      "cell_type": "code",
      "source": [
        "print(\"meem\")"
      ],
      "metadata": {
        "colab": {
          "base_uri": "https://localhost:8080/"
        },
        "id": "uooMw3lzkehs",
        "outputId": "4b6b3ca0-07f4-4276-aa6f-d6aaece5ead8"
      },
      "execution_count": null,
      "outputs": [
        {
          "output_type": "stream",
          "name": "stdout",
          "text": [
            "meem\n"
          ]
        }
      ]
    },
    {
      "cell_type": "code",
      "source": [
        "#multiply 3 by 2\n",
        "print(3*2)"
      ],
      "metadata": {
        "colab": {
          "base_uri": "https://localhost:8080/"
        },
        "id": "7ZFeE77QnB-V",
        "outputId": "872a5cf1-7ffc-49cf-810f-9dddcd4df79f"
      },
      "execution_count": null,
      "outputs": [
        {
          "output_type": "stream",
          "name": "stdout",
          "text": [
            "6\n"
          ]
        }
      ]
    },
    {
      "cell_type": "code",
      "source": [
        "#accident_per_hour\n",
        "accident_per_hour=15\n",
        "#calculation\n",
        "accident_per_day=accident_per_hour*hours_per_day\n",
        "print(accident_per_day)\n"
      ],
      "metadata": {
        "colab": {
          "base_uri": "https://localhost:8080/"
        },
        "id": "fMv74G12nj77",
        "outputId": "2de6bfec-69bf-4b3f-8c3b-65fab8cdf6e0"
      },
      "execution_count": null,
      "outputs": [
        {
          "output_type": "stream",
          "name": "stdout",
          "text": [
            "360\n"
          ]
        }
      ]
    },
    {
      "cell_type": "code",
      "source": [
        "def add(n1,n2):\n",
        "  total=n1+n2\n",
        "  return total\n"
      ],
      "metadata": {
        "id": "EkRtBv-VpFdh"
      },
      "execution_count": null,
      "outputs": []
    },
    {
      "cell_type": "code",
      "source": [
        "num1=5\n",
        "num2=10\n",
        "sum=add(num1,num2)\n",
        "print(sum)"
      ],
      "metadata": {
        "colab": {
          "base_uri": "https://localhost:8080/"
        },
        "id": "XjvFpNmUstCf",
        "outputId": "61079004-cc16-4fe3-e858-1e62cd916071"
      },
      "execution_count": null,
      "outputs": [
        {
          "output_type": "stream",
          "name": "stdout",
          "text": [
            "15\n"
          ]
        }
      ]
    },
    {
      "cell_type": "code",
      "source": [
        "sum=add(2,3)\n",
        "print(sum)"
      ],
      "metadata": {
        "colab": {
          "base_uri": "https://localhost:8080/"
        },
        "id": "TObeObb9s4c4",
        "outputId": "a62430ea-611d-4542-c302-3ffdb123069f"
      },
      "execution_count": null,
      "outputs": [
        {
          "output_type": "stream",
          "name": "stdout",
          "text": [
            "5\n"
          ]
        }
      ]
    },
    {
      "cell_type": "code",
      "source": [
        "print(add(3,2))"
      ],
      "metadata": {
        "colab": {
          "base_uri": "https://localhost:8080/"
        },
        "id": "b0A5z6o4tNgW",
        "outputId": "6803ed64-f766-4522-dbcf-5fd7ecb9e922"
      },
      "execution_count": null,
      "outputs": [
        {
          "output_type": "stream",
          "name": "stdout",
          "text": [
            "5\n"
          ]
        }
      ]
    },
    {
      "cell_type": "code",
      "source": [],
      "metadata": {
        "id": "jS_kxVpStkWj"
      },
      "execution_count": null,
      "outputs": []
    }
  ]
}